{
 "cells": [
  {
   "cell_type": "markdown",
   "id": "4baca6ba",
   "metadata": {},
   "source": [
    "# First import numpy to use all the features it provides"
   ]
  },
  {
   "cell_type": "code",
   "execution_count": 10,
   "id": "3dce8781",
   "metadata": {},
   "outputs": [],
   "source": [
    "import numpy as np\n",
    "import matplotlib.pyplot as plt"
   ]
  },
  {
   "cell_type": "code",
   "execution_count": 2,
   "id": "08646ffa",
   "metadata": {},
   "outputs": [
    {
     "data": {
      "text/plain": [
       "list"
      ]
     },
     "execution_count": 2,
     "metadata": {},
     "output_type": "execute_result"
    }
   ],
   "source": [
    "x = [1,2,3,4]\n",
    "type(x)"
   ]
  },
  {
   "cell_type": "code",
   "execution_count": 3,
   "id": "8b27b8ee",
   "metadata": {},
   "outputs": [
    {
     "data": {
      "text/plain": [
       "numpy.ndarray"
      ]
     },
     "execution_count": 3,
     "metadata": {},
     "output_type": "execute_result"
    }
   ],
   "source": [
    "x = np.array(x)\n",
    "type(x)"
   ]
  },
  {
   "cell_type": "code",
   "execution_count": 4,
   "id": "f4dab173",
   "metadata": {},
   "outputs": [
    {
     "data": {
      "text/plain": [
       "3"
      ]
     },
     "execution_count": 4,
     "metadata": {},
     "output_type": "execute_result"
    }
   ],
   "source": [
    "# accessing the elements using the index notations\n",
    "x[2]"
   ]
  },
  {
   "cell_type": "markdown",
   "id": "29862325",
   "metadata": {},
   "source": [
    "## Combine different lists in order to form an array"
   ]
  },
  {
   "cell_type": "code",
   "execution_count": 5,
   "id": "2bd6cfdd",
   "metadata": {},
   "outputs": [
    {
     "name": "stderr",
     "output_type": "stream",
     "text": [
      "C:\\Users\\seher\\AppData\\Local\\Temp\\ipykernel_4928\\1795606857.py:4: VisibleDeprecationWarning: Creating an ndarray from ragged nested sequences (which is a list-or-tuple of lists-or-tuples-or ndarrays with different lengths or shapes) is deprecated. If you meant to do this, you must specify 'dtype=object' when creating the ndarray.\n",
      "  y = np.array([a,b,c])\n"
     ]
    },
    {
     "data": {
      "text/plain": [
       "array([list([1, 2, 3]), list([4, 7, 8, 4]), list([9, 4, 5, 6])],\n",
       "      dtype=object)"
      ]
     },
     "execution_count": 5,
     "metadata": {},
     "output_type": "execute_result"
    }
   ],
   "source": [
    "a = [1,2,3]\n",
    "b = [4,7,8,4]\n",
    "c = [9,4,5,6]\n",
    "y = np.array([a,b,c])\n",
    "y"
   ]
  },
  {
   "cell_type": "markdown",
   "id": "73f0ea5e",
   "metadata": {},
   "source": [
    "# Another method for combining the arrays"
   ]
  },
  {
   "cell_type": "code",
   "execution_count": 11,
   "id": "5a498744",
   "metadata": {},
   "outputs": [],
   "source": [
    "x = np.array([[1,2,3,4],\n",
    "    [3,6,8,9],\n",
    "    [3,7,5,4]])"
   ]
  },
  {
   "cell_type": "markdown",
   "id": "c966eaec",
   "metadata": {},
   "source": [
    "## This gives us the info about the shape of the array\n",
    "**As in the above we have 2D array with 3 rows and 4 columns**"
   ]
  },
  {
   "cell_type": "code",
   "execution_count": 12,
   "id": "f61a7cee",
   "metadata": {
    "scrolled": true
   },
   "outputs": [
    {
     "data": {
      "text/plain": [
       "(3, 4)"
      ]
     },
     "execution_count": 12,
     "metadata": {},
     "output_type": "execute_result"
    }
   ],
   "source": [
    "x.shape"
   ]
  },
  {
   "cell_type": "markdown",
   "id": "5d623fd7",
   "metadata": {},
   "source": [
    "## Accessing elements in the 2D arrays\n",
    "**The first block before ',' represent the rows as in our case we want to display rows for 1 row to 2-1(1) means only one row.  The second block represent the columns we want to display brfore the colons we tell from where to start and after the colon we tell the ending limit till which we want t display**"
   ]
  },
  {
   "cell_type": "code",
   "execution_count": 15,
   "id": "d1fb33e1",
   "metadata": {},
   "outputs": [
    {
     "data": {
      "text/plain": [
       "array([[6, 8]])"
      ]
     },
     "execution_count": 15,
     "metadata": {},
     "output_type": "execute_result"
    }
   ],
   "source": [
    "x[1:2,1:3]"
   ]
  },
  {
   "cell_type": "markdown",
   "id": "bb465d93",
   "metadata": {},
   "source": [
    "## Reference means share the memory locations\n",
    "**For example if we assign the same array to the other array, both will be pointing towards the single locations                \n",
    "Changings in the array will be represent in the second array Too**"
   ]
  },
  {
   "cell_type": "code",
   "execution_count": 22,
   "id": "b7ecda30",
   "metadata": {},
   "outputs": [
    {
     "data": {
      "text/plain": [
       "array([2, 3, 4, 5, 7, 8])"
      ]
     },
     "execution_count": 22,
     "metadata": {},
     "output_type": "execute_result"
    }
   ],
   "source": [
    "x = np.array([2,3,4,5,7,8])\n",
    "y = x\n",
    "y"
   ]
  },
  {
   "cell_type": "code",
   "execution_count": 23,
   "id": "88ace5d8",
   "metadata": {},
   "outputs": [
    {
     "data": {
      "text/plain": [
       "array([  2,   3,   4, 100, 100, 100])"
      ]
     },
     "execution_count": 23,
     "metadata": {},
     "output_type": "execute_result"
    }
   ],
   "source": [
    "y[3:] = 100\n",
    "y"
   ]
  },
  {
   "cell_type": "code",
   "execution_count": 25,
   "id": "259bba1f",
   "metadata": {},
   "outputs": [
    {
     "data": {
      "text/plain": [
       "array([  2,   3,   4, 100, 100, 100])"
      ]
     },
     "execution_count": 25,
     "metadata": {},
     "output_type": "execute_result"
    }
   ],
   "source": [
    "# look an action on the y also effects the Y bcz they share common locations\n",
    "x"
   ]
  },
  {
   "cell_type": "markdown",
   "id": "15f89f0c",
   "metadata": {},
   "source": [
    "# Applying different conditions to the arrays "
   ]
  },
  {
   "cell_type": "code",
   "execution_count": 27,
   "id": "baaa73b7",
   "metadata": {},
   "outputs": [
    {
     "data": {
      "text/plain": [
       "array([2, 3, 4])"
      ]
     },
     "execution_count": 27,
     "metadata": {},
     "output_type": "execute_result"
    }
   ],
   "source": [
    "x[x<5]"
   ]
  },
  {
   "cell_type": "code",
   "execution_count": 29,
   "id": "2a807852",
   "metadata": {},
   "outputs": [
    {
     "data": {
      "text/plain": [
       "array([  4, 100, 100, 100])"
      ]
     },
     "execution_count": 29,
     "metadata": {},
     "output_type": "execute_result"
    }
   ],
   "source": [
    "x[x>3]"
   ]
  },
  {
   "cell_type": "code",
   "execution_count": 31,
   "id": "c32cffbd",
   "metadata": {},
   "outputs": [
    {
     "data": {
      "text/plain": [
       "array([False, False,  True,  True,  True,  True])"
      ]
     },
     "execution_count": 31,
     "metadata": {},
     "output_type": "execute_result"
    }
   ],
   "source": [
    "# here it's just pass true where the condition is true\n",
    "x>3"
   ]
  },
  {
   "cell_type": "markdown",
   "id": "a311fb6d",
   "metadata": {},
   "source": [
    "# Reshaping the array\n",
    "### shape of x is 3 by 4 which is 12\n",
    "### and new shape is 6 by 2 which is also 12\n",
    "### both size must be same"
   ]
  },
  {
   "cell_type": "code",
   "execution_count": 32,
   "id": "9bbf04dc",
   "metadata": {},
   "outputs": [
    {
     "data": {
      "text/plain": [
       "array([[1, 2],\n",
       "       [3, 4],\n",
       "       [3, 6],\n",
       "       [8, 9],\n",
       "       [3, 7],\n",
       "       [5, 4]])"
      ]
     },
     "execution_count": 32,
     "metadata": {},
     "output_type": "execute_result"
    }
   ],
   "source": [
    "x = np.array([[1,2,3,4],\n",
    "    [3,6,8,9],\n",
    "    [3,7,5,4]])\n",
    "np.reshape(x,(6,2))"
   ]
  },
  {
   "cell_type": "markdown",
   "id": "90a05283",
   "metadata": {},
   "source": [
    "# Arange fn\n",
    "### its create an array in which values are ranges between the values given in the brackets"
   ]
  },
  {
   "cell_type": "code",
   "execution_count": 36,
   "id": "7a326d96",
   "metadata": {},
   "outputs": [
    {
     "data": {
      "text/plain": [
       "array([1, 2, 3, 4, 5, 6, 7, 8, 9])"
      ]
     },
     "execution_count": 36,
     "metadata": {},
     "output_type": "execute_result"
    }
   ],
   "source": [
    "b = np.arange(1,10)\n",
    "b"
   ]
  },
  {
   "cell_type": "code",
   "execution_count": 39,
   "id": "cc437cf4",
   "metadata": {},
   "outputs": [
    {
     "data": {
      "text/plain": [
       "array([1, 4, 7])"
      ]
     },
     "execution_count": 39,
     "metadata": {},
     "output_type": "execute_result"
    }
   ],
   "source": [
    "# 3 is the number of the steps \n",
    "c = np.arange(1,10,3)\n",
    "c"
   ]
  },
  {
   "cell_type": "markdown",
   "id": "272f1634",
   "metadata": {},
   "source": [
    "# Arrays of Zeros and ones"
   ]
  },
  {
   "cell_type": "code",
   "execution_count": 40,
   "id": "32526660",
   "metadata": {},
   "outputs": [
    {
     "data": {
      "text/plain": [
       "array([[0, 0, 0],\n",
       "       [0, 0, 0]])"
      ]
     },
     "execution_count": 40,
     "metadata": {},
     "output_type": "execute_result"
    }
   ],
   "source": [
    "np.zeros((2,3), dtype = int)"
   ]
  },
  {
   "cell_type": "code",
   "execution_count": 41,
   "id": "4d780908",
   "metadata": {},
   "outputs": [
    {
     "data": {
      "text/plain": [
       "array([[2],\n",
       "       [3]])"
      ]
     },
     "execution_count": 41,
     "metadata": {},
     "output_type": "execute_result"
    }
   ],
   "source": [
    "np.arange(2,4).reshape(2,1)."
   ]
  },
  {
   "cell_type": "code",
   "execution_count": 43,
   "id": "4883422e",
   "metadata": {},
   "outputs": [
    {
     "data": {
      "text/plain": [
       "array([[1., 1., 1., 1., 1.],\n",
       "       [1., 1., 1., 1., 1.]])"
      ]
     },
     "execution_count": 43,
     "metadata": {},
     "output_type": "execute_result"
    }
   ],
   "source": [
    "# default dtype is float\n",
    "np.ones((2,5))"
   ]
  },
  {
   "cell_type": "markdown",
   "id": "02674540",
   "metadata": {},
   "source": [
    "## Random number Genration Functions"
   ]
  },
  {
   "cell_type": "code",
   "execution_count": 44,
   "id": "adaeb8ec",
   "metadata": {},
   "outputs": [
    {
     "data": {
      "text/plain": [
       "array([[0.78793249, 0.77330082, 0.25186103],\n",
       "       [0.55321829, 0.16451135, 0.32275905],\n",
       "       [0.02338   , 0.71947971, 0.61045801]])"
      ]
     },
     "execution_count": 44,
     "metadata": {},
     "output_type": "execute_result"
    }
   ],
   "source": [
    "# random uniformaly  distribution\n",
    "np.random.rand(3,3)"
   ]
  },
  {
   "cell_type": "code",
   "execution_count": 53,
   "id": "55172867",
   "metadata": {},
   "outputs": [
    {
     "data": {
      "text/plain": [
       "array([[-0.35145182, -1.55734414, -0.70721844, -2.36827496],\n",
       "       [ 0.73511516, -0.23251312, -0.99067942,  1.62285317],\n",
       "       [-1.23735971, -0.90261669,  1.43283381, -0.75870494],\n",
       "       [-0.66620749,  0.31004924, -1.14651776,  0.2411634 ]])"
      ]
     },
     "execution_count": 53,
     "metadata": {},
     "output_type": "execute_result"
    }
   ],
   "source": [
    "# normal distribution\n",
    "x = np.random.randn(4,4)\n",
    "x"
   ]
  },
  {
   "cell_type": "markdown",
   "id": "2e6d4dee",
   "metadata": {},
   "source": [
    "# Lets display normal distribution using seaborn"
   ]
  },
  {
   "cell_type": "code",
   "execution_count": 54,
   "id": "839b2cc9",
   "metadata": {},
   "outputs": [
    {
     "name": "stderr",
     "output_type": "stream",
     "text": [
      "C:\\Users\\seher\\anaconda3\\lib\\site-packages\\seaborn\\distributions.py:2619: FutureWarning: `distplot` is a deprecated function and will be removed in a future version. Please adapt your code to use either `displot` (a figure-level function with similar flexibility) or `histplot` (an axes-level function for histograms).\n",
      "  warnings.warn(msg, FutureWarning)\n"
     ]
    },
    {
     "data": {
      "text/plain": [
       "<AxesSubplot:ylabel='Density'>"
      ]
     },
     "execution_count": 54,
     "metadata": {},
     "output_type": "execute_result"
    },
    {
     "data": {
      "image/png": "[encoded data removed]",
      "text/plain": [
       "<Figure size 432x288 with 1 Axes>"
      ]
     },
     "metadata": {
      "needs_background": "light"
     },
     "output_type": "display_data"
    }
   ],
   "source": [
    "import seaborn as sn\n",
    "import pandas as pd\n",
    "sn.distplot(pd.DataFrame(x.reshape(16,1)))"
   ]
  },
  {
   "cell_type": "code",
   "execution_count": null,
   "id": "ef5b570f",
   "metadata": {},
   "outputs": [],
   "source": []
  },
  {
   "cell_type": "code",
   "execution_count": null,
   "id": "bf4bec5d",
   "metadata": {},
   "outputs": [],
   "source": []
  },
  {
   "cell_type": "code",
   "execution_count": null,
   "id": "14251000",
   "metadata": {},
   "outputs": [],
   "source": []
  }
 ],
 "metadata": {
  "kernelspec": {
   "display_name": "Python 3 (ipykernel)",
   "language": "python",
   "name": "python3"
  },
  "language_info": {
   "codemirror_mode": {
    "name": "ipython",
    "version": 3
   },
   "file_extension": ".py",
   "mimetype": "text/x-python",
   "name": "python",
   "nbconvert_exporter": "python",
   "pygments_lexer": "ipython3",
   "version": "3.9.12"
  }
 },
 "nbformat": 4,
 "nbformat_minor": 5
}
